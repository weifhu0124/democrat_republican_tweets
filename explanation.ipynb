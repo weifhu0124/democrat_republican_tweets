{
 "cells": [
  {
   "cell_type": "markdown",
   "metadata": {},
   "source": [
    "## main begins"
   ]
  },
  {
   "cell_type": "code",
   "execution_count": 1,
   "metadata": {},
   "outputs": [],
   "source": [
    "from task1 import classify\n",
    "from task1.sentiment import *\n",
    "import numpy as np\n",
    "# import classify"
   ]
  },
  {
   "cell_type": "code",
   "execution_count": 2,
   "metadata": {},
   "outputs": [
    {
     "name": "stdout",
     "output_type": "stream",
     "text": [
      "Reading data\n",
      "-- train data\n",
      "4582\n",
      "-- dev data\n",
      "\n",
      "\n",
      "There is ONE place in town to get a great croissant with\n",
      "\n",
      "458\n",
      "-- transforming data and labels\n",
      "\n",
      "Training classifier\n",
      "\n",
      "Evaluating\n",
      "[[2118  173]\n",
      " [ 211 2080]]\n",
      "  Accuracy on train  is: 0.9161938018332606\n",
      "  F1 on train  is: 0.9154929577464789\n",
      "[[180  49]\n",
      " [ 54 175]]\n",
      "  Accuracy on dev  is: 0.7751091703056768\n",
      "  F1 on dev  is: 0.7726269315673289\n"
     ]
    },
    {
     "data": {
      "text/plain": [
       "0.7751091703056768"
      ]
     },
     "execution_count": 2,
     "metadata": {},
     "output_type": "execute_result"
    }
   ],
   "source": [
    "print(\"Reading data\")\n",
    "tarfname = \"task2/data/sentiment.tar.gz\"\n",
    "sentiment = read_files(tarfname)\n",
    "print(\"\\nTraining classifier\")\n",
    "\n",
    "cls = classify.train_classifier(sentiment.trainX, sentiment.trainy)\n",
    "print(\"\\nEvaluating\")\n",
    "classify.evaluate(sentiment.trainX, sentiment.trainy, cls, 'train')\n",
    "classify.evaluate(sentiment.devX, sentiment.devy, cls, 'dev')"
   ]
  },
  {
   "cell_type": "code",
   "execution_count": 3,
   "metadata": {},
   "outputs": [
    {
     "name": "stdout",
     "output_type": "stream",
     "text": [
      "9952\n",
      "(1, 9952)\n"
     ]
    }
   ],
   "source": [
    "print(len(sentiment.tfidf_vect.vocabulary_))\n",
    "#print(len(sentiment.count_vect.idf_))\n",
    "print(cls.coef_.shape)"
   ]
  },
  {
   "cell_type": "markdown",
   "metadata": {},
   "source": [
    "## bind tokens with idf and classifer weights"
   ]
  },
  {
   "cell_type": "code",
   "execution_count": 4,
   "metadata": {
    "scrolled": true
   },
   "outputs": [],
   "source": [
    "import operator\n",
    "sorted(zip(sentiment.tfidf_vect.get_feature_names(), sentiment.tfidf_vect.idf_),\n",
    "       key=operator.itemgetter(1))[::-1][:10]\n",
    "idf_dict = dict(zip(sentiment.tfidf_vect.get_feature_names(), sentiment.tfidf_vect.idf_))"
   ]
  },
  {
   "cell_type": "code",
   "execution_count": 5,
   "metadata": {},
   "outputs": [],
   "source": [
    "coef_dict = dict(zip(sentiment.tfidf_vect.get_feature_names(), cls.coef_.ravel()))"
   ]
  },
  {
   "cell_type": "markdown",
   "metadata": {},
   "source": [
    "## frequencies of positive and negative reviews"
   ]
  },
  {
   "cell_type": "code",
   "execution_count": null,
   "metadata": {},
   "outputs": [],
   "source": [
    "from collections import Counter\n",
    "import matplotlib.pyplot as plt\n",
    "print(len(sentiment.train_data_corr))\n",
    "print(len(sentiment.train_data))\n",
    "sentence_length = [len(l) for l in sentiment.train_data_corr]\n",
    "\n",
    "# sentence length histograms\n",
    "\"\"\"\n",
    "seems that negative reviews are longer\n",
    "\"\"\"\n",
    "sentence_length_pos = [len(l) for t, l in zip(sentiment.trainy, sentiment.train_data_corr) if t == 1]\n",
    "print('# positive reviews: %i' % len(sentence_length_pos))\n",
    "sentence_length_neg = [len(l) for t, l in zip(sentiment.trainy, sentiment.train_data_corr) if t == 0]\n",
    "print('# negative reviews: %i' % len(sentence_length_neg))\n",
    "plt.hist((sentence_length_pos, sentence_length_neg), bins=20,\n",
    "         label=['positive', 'negative'])\n",
    "plt.yscale('log')\n",
    "plt.legend()\n",
    "plt.xlabel('Number of words in the review')\n",
    "plt.ylabel('Number of reviews')\n",
    "plt.show()"
   ]
  },
  {
   "cell_type": "markdown",
   "metadata": {},
   "source": [
    "## most weighted tokens and their rareness"
   ]
  },
  {
   "cell_type": "code",
   "execution_count": 6,
   "metadata": {},
   "outputs": [],
   "source": [
    "token_flat = [token for sent in sentiment.tfidf_vect.inverse_transform(sentiment.trainX) for token in sent]"
   ]
  },
  {
   "cell_type": "code",
   "execution_count": 7,
   "metadata": {
    "scrolled": true
   },
   "outputs": [],
   "source": [
    "from collections import Counter\n",
    "import matplotlib.pyplot as plt\n",
    "c = Counter(token_flat)\n",
    "common_tokens, _ = zip(*c.most_common(100))\n",
    "# for t in common_tokens:\n",
    "#     print(t, idf_dict[t], coef_dict[t])\n",
    "common_tokens = [token for token, count in c.most_common() if count>10]\n",
    "common_tokens_idf = [idf_dict[t] for t in common_tokens]\n",
    "common_tokens_coef = [coef_dict[t] for t in common_tokens]"
   ]
  },
  {
   "cell_type": "code",
   "execution_count": 8,
   "metadata": {
    "scrolled": false
   },
   "outputs": [
    {
     "name": "stdout",
     "output_type": "stream",
     "text": [
      "('worst', 'horrible', 'amazing', 'great', 'delicious', 'excellent', 'awesome', 'best', 'terrible', 'rude', 'love', 'favorite', 'disappointing', 'wonderful', 'perfect', 'bad', 'asked', 'friendly', 'average', 'disappointed')\n"
     ]
    },
    {
     "data": {
      "image/png": "[encoded data removed]",
      "text/plain": [
       "<Figure size 720x504 with 1 Axes>"
      ]
     },
     "metadata": {},
     "output_type": "display_data"
    }
   ],
   "source": [
    "%matplotlib inline\n",
    "#notebook\n",
    "common_tokens_weight = [(t, idf_dict[t] * coef_dict[t]) for t in common_tokens]\n",
    "top_weighted_tokens = sorted(common_tokens_weight, key=lambda x: abs(x[1]))[::-1][:20]\n",
    "top_tokens, weights = zip(*top_weighted_tokens)\n",
    "print(top_tokens)\n",
    "x = weights\n",
    "y = [idf_dict[t] for t in top_tokens] #[coef_dict[t] for t in top_tokens]\n",
    "\n",
    "plt.figure(figsize=(10,7))\n",
    "plt.plot(x, y , 'k.')\n",
    "plt.plot([0,0], plt.ylim(), 'k--')\n",
    "for i, t in enumerate(top_tokens):\n",
    "    anchor = (x[i]-0.12, y[i]+0.05)\n",
    "#     if t == 'rude':\n",
    "#         anchor = (anchor[0]+0.1, anchor[1]-0.15)\n",
    "#     if t == 'disappointed':\n",
    "#         anchor = (anchor[0]+0.1, anchor[1]-0.2)\n",
    "#     if t == 'disappointing':\n",
    "#         anchor = (anchor[0]+0.1, anchor[1]-0.2)\n",
    "#     if t == 'average':\n",
    "#         anchor = (anchor[0]+0.15, anchor[1]-0.05)\n",
    "    plt.annotate(t, anchor)\n",
    "    \n",
    "plt.xlabel('weight', fontsize=12)\n",
    "plt.ylabel('IDF', fontsize=12)\n",
    "plt.annotate('Rare', xy=(0.1, 6.0), xytext=(0.1, 5.5),\n",
    "            arrowprops=dict(facecolor='black', shrink=0.05), fontsize=12)\n",
    "plt.annotate('Common', xy=(0.1, 3.0), xytext=(0.1, 3.5),\n",
    "            arrowprops=dict(facecolor='black', shrink=0.05), fontsize=12)\n",
    "plt.show()"
   ]
  },
  {
   "cell_type": "markdown",
   "metadata": {},
   "source": [
    "# about confidence (probability of prediction)"
   ]
  },
  {
   "cell_type": "code",
   "execution_count": 9,
   "metadata": {},
   "outputs": [
    {
     "name": "stdout",
     "output_type": "stream",
     "text": [
      "458\n"
     ]
    }
   ],
   "source": [
    "probs = np.max(cls.predict_proba(sentiment.devX), axis=1)\n",
    "print(len(probs))"
   ]
  },
  {
   "cell_type": "markdown",
   "metadata": {},
   "source": [
    "## the most confident but incorrect example"
   ]
  },
  {
   "cell_type": "code",
   "execution_count": 10,
   "metadata": {},
   "outputs": [
    {
     "name": "stdout",
     "output_type": "stream",
     "text": [
      "Having trouble on what to have for dinner and have a big appetite, Check out this place The desserts are great and so is the fresh food. I love coming 0 1\n",
      "sum of weights:  46.8820393060153\n",
      "[0.14133326 0.85866674]\n"
     ]
    },
    {
     "data": {
      "text/plain": [
       "[<matplotlib.lines.Line2D at 0x1a22974748>]"
      ]
     },
     "execution_count": 10,
     "metadata": {},
     "output_type": "execute_result"
    },
    {
     "data": {
      "image/png": "[encoded data removed]",
      "text/plain": [
       "<Figure size 360x720 with 1 Axes>"
      ]
     },
     "metadata": {},
     "output_type": "display_data"
    }
   ],
   "source": [
    "ind_prob = list(enumerate(probs))\n",
    "targets = sentiment.devy\n",
    "preds = cls.predict(sentiment.devX)\n",
    "false_inds = np.argwhere(targets != preds).ravel()\n",
    "ind_, _ = sorted(zip(false_inds, probs[false_inds]),\n",
    "                 key=operator.itemgetter(1))[::-1][0]\n",
    "print(sentiment.dev_data[ind_], targets[ind_], preds[ind_])\n",
    "\n",
    "token_weight = sorted([(token, idf_dict[token]*coef_dict[token]) for token in sentiment.tfidf_vect.inverse_transform(sentiment.devX[ind_])[0]], key=lambda x: abs(x[1]))[::-1]\n",
    "# print(token_weight)\n",
    "\n",
    "tokens, weights = zip(*token_weight)\n",
    "print('sum of weights: ', sum(weights))\n",
    "print(cls.predict_proba(sentiment.devX[ind_])[0])\n",
    "\n",
    "plt.figure(figsize=(5,10))\n",
    "plt.barh(y=range(len(weights))[::-1], width=weights, \n",
    "         tick_label=tokens)\n",
    "plt.barh(y=range(len(weights))[::-1], width=[coef_dict[token] for token in tokens])\n",
    "plt.plot([idf_dict[token]/100 for token in tokens], range(len(weights))[::-1], '.--', color='green')"
   ]
  },
  {
   "cell_type": "markdown",
   "metadata": {},
   "source": [
    "## most confident examples"
   ]
  },
  {
   "cell_type": "code",
   "execution_count": 11,
   "metadata": {},
   "outputs": [],
   "source": [
    "inds, _ = zip(*sorted(ind_prob, key=lambda x:x[1])[::-1][:5])"
   ]
  },
  {
   "cell_type": "code",
   "execution_count": 12,
   "metadata": {},
   "outputs": [
    {
     "name": "stdout",
     "output_type": "stream",
     "text": [
      "I love this place. They have great breakfast treats and great lunches not to mention the amazing sweets!! Also they have homemade icecream with moose tracks. YUM I like to [1] POSITIVE\n",
      "---\n",
      "Quick -fresh-delicious!Great curries and Thai basilThe Green Curry with Chicken is a favorite! [1] POSITIVE\n",
      "---\n",
      "Worst Mexican place ever!!!! Their chicken is horrible pink not fully cooked!!! Had the chicken enchilada 's and had horrible food poisoning out both ends. The bartender was rude! The [0] NEGATIVE\n",
      "---\n",
      "Great selection of tropical and traditional ice cream flavors. Tastes fresh, natural and not too sweet. Got a few fresh baked cookies to add to our dessert. Delicious dessert, friendly [1] POSITIVE\n",
      "---\n",
      "A Savory Affair catered my daughters wedding this weekend and they did an amazing job! The food was absolutely delicious and they were punctual, friendly, helpful and professional. Many people [1] POSITIVE\n",
      "---\n"
     ]
    }
   ],
   "source": [
    "for i in inds:\n",
    "    print(sentiment.dev_data[i],\n",
    "          cls.predict(sentiment.devX[i]),\n",
    "          sentiment.dev_labels[i], end='\\n---\\n')"
   ]
  },
  {
   "cell_type": "markdown",
   "metadata": {},
   "source": [
    "## least confidence examples"
   ]
  },
  {
   "cell_type": "code",
   "execution_count": 13,
   "metadata": {
    "scrolled": false
   },
   "outputs": [
    {
     "name": "stdout",
     "output_type": "stream",
     "text": [
      "As my tip states, you'll be lucky if you get Jenny as your bartender. That girl seriously knows what she's doing and puts most other Vegas bartenders to shame. After [1] POSITIVE\n",
      "---\n",
      "Had an awsome late lunch at this bbq restaurant this afternoon.  I have a gluten alergy so it was a relief to be able to talk to the owner [0] POSITIVE\n",
      "---\n",
      "I had the day off and was planning on getting my hair done, running errands, and later pick up my kids from school. It took the stylist FOUR HOURS for [0] NEGATIVE\n",
      "---\n",
      "First off, good service. Waitress was very friendly and honest. Anyways, I wanted some ramen this evening. Strolled in to find that today there was some ramen with chicken in [0] NEGATIVE\n",
      "---\n",
      "What a disappointment!  This is only the second buffet I've eaten at in Vegas but it pales in comparison to the Bellagio.  The food wasn't that fresh, service [1] NEGATIVE\n",
      "---\n"
     ]
    },
    {
     "data": {
      "text/plain": [
       "\"\\nMostly contains 'but' or other adversatives. indicates a turn in meaning\\nuse LIME to analyze these examples to show more\\n\""
      ]
     },
     "execution_count": 13,
     "metadata": {},
     "output_type": "execute_result"
    }
   ],
   "source": [
    "inds, _ = zip(*sorted(ind_prob, key=lambda x:x[1])[:5])\n",
    "for i in inds:\n",
    "    print(sentiment.dev_data[i],\n",
    "          cls.predict(sentiment.devX[i]),\n",
    "          sentiment.dev_labels[i], end='\\n---\\n')\n",
    "\"\"\"\n",
    "Mostly contains 'but' or other adversatives. indicates a turn in meaning\n",
    "use LIME to analyze these examples to show more\n",
    "\"\"\""
   ]
  },
  {
   "cell_type": "code",
   "execution_count": null,
   "metadata": {},
   "outputs": [],
   "source": []
  },
  {
   "cell_type": "code",
   "execution_count": null,
   "metadata": {},
   "outputs": [],
   "source": []
  },
  {
   "cell_type": "code",
   "execution_count": null,
   "metadata": {},
   "outputs": [],
   "source": []
  },
  {
   "cell_type": "markdown",
   "metadata": {},
   "source": [
    "## how performance relates to confidence"
   ]
  },
  {
   "cell_type": "code",
   "execution_count": null,
   "metadata": {},
   "outputs": [],
   "source": [
    "probs = np.max(cls.predict_proba(sentiment.devX), axis=1)\n",
    "\n",
    "bin_bound = np.linspace(0.5, 1, 10)\n",
    "bin_x = (bin_bound[:-1] + bin_bound[1:])/2\n",
    "digits = np.digitize(probs, bin_bound)\n",
    "from collections import defaultdict\n",
    "bin_inds = defaultdict(list)\n",
    "for i, i_bin in enumerate(digits):\n",
    "    bin_inds[i_bin].append(i)\n",
    "\n",
    "from sklearn.metrics import precision_score, recall_score\n",
    "def precision_recall(targets, preds):\n",
    "    precision = precision_score(targets, preds)\n",
    "    assert(precision == sum((preds == targets) * preds) / sum(preds))\n",
    "    recall = recall_score(targets, preds)\n",
    "    assert(recall == sum((preds == targets) * preds) / sum(targets))\n",
    "    return precision, recall"
   ]
  },
  {
   "cell_type": "code",
   "execution_count": null,
   "metadata": {},
   "outputs": [],
   "source": [
    "stats = []\n",
    "for i_bin in bin_inds:\n",
    "    targets = sentiment.devy[bin_inds[i_bin]]\n",
    "    preds = cls.predict(sentiment.devX[bin_inds[i_bin]])\n",
    "    stats.append((bin_x[i_bin-1],\n",
    "                  len(bin_inds[i_bin]),\n",
    "                  precision_recall(targets, preds)))"
   ]
  },
  {
   "cell_type": "code",
   "execution_count": null,
   "metadata": {},
   "outputs": [],
   "source": [
    "probs = np.max(cls.predict_proba(sentiment.trainX), axis=1)\n",
    "\n",
    "bin_bound = np.linspace(0.5, 1, 10)\n",
    "bin_x = (bin_bound[:-1] + bin_bound[1:])/2\n",
    "digits = np.digitize(probs, bin_bound)\n",
    "from collections import defaultdict\n",
    "bin_inds = defaultdict(list)\n",
    "for i, i_bin in enumerate(digits):\n",
    "    bin_inds[i_bin].append(i)\n",
    "\n",
    "from sklearn.metrics import precision_score, recall_score\n",
    "def precision_recall(targets, preds):\n",
    "    precision = precision_score(targets, preds)\n",
    "    assert(precision == sum((preds == targets) * preds) / sum(preds))\n",
    "    recall = recall_score(targets, preds)\n",
    "    assert(recall == sum((preds == targets) * preds) / sum(targets))\n",
    "    return precision, recall"
   ]
  },
  {
   "cell_type": "code",
   "execution_count": null,
   "metadata": {},
   "outputs": [],
   "source": [
    "stats = []\n",
    "for i_bin in bin_inds:\n",
    "    targets = sentiment.trainy[bin_inds[i_bin]]\n",
    "    preds = cls.predict(sentiment.trainX[bin_inds[i_bin]])\n",
    "    stats.append((bin_x[i_bin-1],\n",
    "                  len(bin_inds[i_bin]),\n",
    "                  precision_recall(targets, preds)))"
   ]
  },
  {
   "cell_type": "code",
   "execution_count": null,
   "metadata": {},
   "outputs": [],
   "source": [
    "bin_x_, count, p_r = zip(*sorted(stats))\n",
    "precision, recall = zip(*p_r)\n",
    "assert np.all(bin_x == bin_x_)\n",
    "fig, ax = plt.subplots()\n",
    "ax.bar(x=bin_x, height=count, width=0.05, color='green',\n",
    "       label='count')\n",
    "ax1 = ax.twinx()\n",
    "ax1.plot(bin_x, precision, '.-', label='precision')\n",
    "ax1.plot(bin_x, recall, '.-', label='recall')\n",
    "ax1.legend()\n",
    "ax.legend(loc='upper center')\n",
    "ax.set_xlabel('Probability of prediction')\n",
    "ax1.plot(ax1.get_xlim(), [0.5, 0.5], 'k--')\n",
    "ax1.annotate('random guessing',\n",
    "             xy=(0.9, 0.5), xytext=(0.8, 0.6),\n",
    "             arrowprops=dict(facecolor='black', shrink=0.05))\n",
    "plt.show()\n",
    "\"\"\"\n",
    "weird behaviour around 0.5 bin\n",
    "\"\"\""
   ]
  },
  {
   "cell_type": "code",
   "execution_count": null,
   "metadata": {},
   "outputs": [],
   "source": [
    "precision_recall(sentiment.trainy,\n",
    "                 np.random.choice([0,1], len(sentiment.trainy)))"
   ]
  },
  {
   "cell_type": "code",
   "execution_count": null,
   "metadata": {},
   "outputs": [],
   "source": []
  },
  {
   "cell_type": "code",
   "execution_count": null,
   "metadata": {},
   "outputs": [],
   "source": []
  },
  {
   "cell_type": "code",
   "execution_count": null,
   "metadata": {},
   "outputs": [],
   "source": []
  },
  {
   "cell_type": "code",
   "execution_count": null,
   "metadata": {},
   "outputs": [],
   "source": []
  }
 ],
 "metadata": {
  "kernelspec": {
   "display_name": "Python 3",
   "language": "python",
   "name": "python3"
  },
  "language_info": {
   "codemirror_mode": {
    "name": "ipython",
    "version": 3
   },
   "file_extension": ".py",
   "mimetype": "text/x-python",
   "name": "python",
   "nbconvert_exporter": "python",
   "pygments_lexer": "ipython3",
   "version": "3.6.5"
  }
 },
 "nbformat": 4,
 "nbformat_minor": 2
}
